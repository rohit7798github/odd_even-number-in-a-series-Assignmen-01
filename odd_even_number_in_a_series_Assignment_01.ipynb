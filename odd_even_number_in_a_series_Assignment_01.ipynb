{
  "nbformat": 4,
  "nbformat_minor": 0,
  "metadata": {
    "colab": {
      "provenance": [],
      "authorship_tag": "ABX9TyOQ+U8CWmNXrCzPfN//vHDY",
      "include_colab_link": true
    },
    "kernelspec": {
      "name": "python3",
      "display_name": "Python 3"
    },
    "language_info": {
      "name": "python"
    }
  },
  "cells": [
    {
      "cell_type": "markdown",
      "metadata": {
        "id": "view-in-github",
        "colab_type": "text"
      },
      "source": [
        "<a href=\"https://colab.research.google.com/github/rohit7798github/odd_even-number-in-a-series-Assignmen-01/blob/main/odd_even_number_in_a_series_Assignment_01.ipynb\" target=\"_parent\"><img src=\"https://colab.research.google.com/assets/colab-badge.svg\" alt=\"Open In Colab\"/></a>"
      ]
    },
    {
      "cell_type": "code",
      "execution_count": 2,
      "metadata": {
        "colab": {
          "base_uri": "https://localhost:8080/"
        },
        "id": "W0s_JF3trEpP",
        "outputId": "50a855ee-1ce4-4518-a681-96968f5320e6"
      },
      "outputs": [
        {
          "output_type": "stream",
          "name": "stdout",
          "text": [
            "input enter the number:9\n",
            "total even number 4\n",
            "total odd number 5\n"
          ]
        }
      ],
      "source": [
        "num = int(input('input enter the number:'))\n",
        "even_count = 0\n",
        "odd_count = 0\n",
        "for i in range(num):\n",
        "  if not i%2 == 0 :\n",
        "    even_count +=1\n",
        "  else:\n",
        "      odd_count +=1\n",
        "print('total even number',even_count)\n",
        "print('total odd number',odd_count)\n"
      ]
    }
  ]
}